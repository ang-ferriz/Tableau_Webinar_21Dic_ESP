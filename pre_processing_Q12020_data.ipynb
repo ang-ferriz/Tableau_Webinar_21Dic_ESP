{
 "cells": [
  {
   "cell_type": "markdown",
   "id": "2c24fa1a",
   "metadata": {
    "toc": true
   },
   "source": [
    "<h1>Index<span class=\"tocSkip\"></span></h1>\n",
    "<div class=\"toc\"><ul class=\"toc-item\"><li><span><a href=\"#Simple-Pre-Processing\" data-toc-modified-id=\"Simple-Pre-Processing-1\"><span class=\"toc-item-num\">1&nbsp;&nbsp;</span>Simple Pre-Processing</a></span><ul class=\"toc-item\"><li><span><a href=\"#Importing-the-.csv\" data-toc-modified-id=\"Importing-the-.csv-1.1\"><span class=\"toc-item-num\">1.1&nbsp;&nbsp;</span>Importing the <code>.csv</code></a></span></li><li><span><a href=\"#Filtering-the-data\" data-toc-modified-id=\"Filtering-the-data-1.2\"><span class=\"toc-item-num\">1.2&nbsp;&nbsp;</span>Filtering the data</a></span></li></ul></li><li><span><a href=\"#Saving-locally-the-clean-dataset\" data-toc-modified-id=\"Saving-locally-the-clean-dataset-2\"><span class=\"toc-item-num\">2&nbsp;&nbsp;</span>Saving locally the clean dataset</a></span></li></ul></div>"
   ]
  },
  {
   "cell_type": "markdown",
   "id": "ae161dae",
   "metadata": {},
   "source": [
    "# Simple Pre-Processing"
   ]
  },
  {
   "cell_type": "markdown",
   "id": "37b4e75d",
   "metadata": {},
   "source": [
    "As the original file * for the data is too big (~29b) and we are not using all of them, we just choose some species (PM10, PM25 and NO2) and drop the rest to make it easier for our computers to work with them."
   ]
  },
  {
   "cell_type": "markdown",
   "id": "83aeaad8",
   "metadata": {},
   "source": [
    "## Importing the `.csv`"
   ]
  },
  {
   "cell_type": "code",
   "execution_count": 2,
   "id": "2128c74a",
   "metadata": {},
   "outputs": [],
   "source": [
    "import pandas as pd"
   ]
  },
  {
   "cell_type": "code",
   "execution_count": 7,
   "id": "9259757b",
   "metadata": {},
   "outputs": [],
   "source": [
    "data = pd.read_csv('datasets/dataset2_Q12020.csv')"
   ]
  },
  {
   "cell_type": "code",
   "execution_count": 19,
   "id": "b13b8436",
   "metadata": {},
   "outputs": [
    {
     "data": {
      "text/plain": [
       "(539573, 9)"
      ]
     },
     "execution_count": 19,
     "metadata": {},
     "output_type": "execute_result"
    }
   ],
   "source": [
    "data.shape # Number of rows and columns"
   ]
  },
  {
   "cell_type": "code",
   "execution_count": 20,
   "id": "b879b464",
   "metadata": {},
   "outputs": [
    {
     "data": {
      "text/plain": [
       "array(['so2', 'wind speed', 'wd', 'wind gust', 'pm10', 'o3', 'pm25',\n",
       "       'humidity', 'pressure', 'wind-gust', 'dew', 'temperature',\n",
       "       'precipitation', 'wind-speed', 'co', 'no2', 'aqi', 'uvi', 'neph',\n",
       "       'pol', 'pm1', 'mepaqi'], dtype=object)"
      ]
     },
     "execution_count": 20,
     "metadata": {},
     "output_type": "execute_result"
    }
   ],
   "source": [
    "data['Specie'].unique() # What we can find in the Specie column"
   ]
  },
  {
   "cell_type": "markdown",
   "id": "2144b1c2",
   "metadata": {},
   "source": [
    "## Filtering the data"
   ]
  },
  {
   "cell_type": "code",
   "execution_count": 28,
   "id": "97d2924f",
   "metadata": {},
   "outputs": [
    {
     "data": {
      "text/html": [
       "<div>\n",
       "<style scoped>\n",
       "    .dataframe tbody tr th:only-of-type {\n",
       "        vertical-align: middle;\n",
       "    }\n",
       "\n",
       "    .dataframe tbody tr th {\n",
       "        vertical-align: top;\n",
       "    }\n",
       "\n",
       "    .dataframe thead th {\n",
       "        text-align: right;\n",
       "    }\n",
       "</style>\n",
       "<table border=\"1\" class=\"dataframe\">\n",
       "  <thead>\n",
       "    <tr style=\"text-align: right;\">\n",
       "      <th></th>\n",
       "      <th>Date</th>\n",
       "      <th>Country</th>\n",
       "      <th>City</th>\n",
       "      <th>Specie</th>\n",
       "      <th>count</th>\n",
       "      <th>min</th>\n",
       "      <th>max</th>\n",
       "      <th>median</th>\n",
       "      <th>variance</th>\n",
       "    </tr>\n",
       "  </thead>\n",
       "  <tbody>\n",
       "    <tr>\n",
       "      <th>257</th>\n",
       "      <td>2020-02-23</td>\n",
       "      <td>CO</td>\n",
       "      <td>Bogotá</td>\n",
       "      <td>pm10</td>\n",
       "      <td>327</td>\n",
       "      <td>4.0</td>\n",
       "      <td>72.0</td>\n",
       "      <td>25.0</td>\n",
       "      <td>1519.18</td>\n",
       "    </tr>\n",
       "    <tr>\n",
       "      <th>258</th>\n",
       "      <td>2020-03-24</td>\n",
       "      <td>CO</td>\n",
       "      <td>Bogotá</td>\n",
       "      <td>pm10</td>\n",
       "      <td>314</td>\n",
       "      <td>2.0</td>\n",
       "      <td>86.0</td>\n",
       "      <td>47.0</td>\n",
       "      <td>1525.59</td>\n",
       "    </tr>\n",
       "    <tr>\n",
       "      <th>259</th>\n",
       "      <td>2020-04-01</td>\n",
       "      <td>CO</td>\n",
       "      <td>Bogotá</td>\n",
       "      <td>pm10</td>\n",
       "      <td>330</td>\n",
       "      <td>5.0</td>\n",
       "      <td>79.0</td>\n",
       "      <td>25.0</td>\n",
       "      <td>1143.10</td>\n",
       "    </tr>\n",
       "    <tr>\n",
       "      <th>260</th>\n",
       "      <td>2019-12-30</td>\n",
       "      <td>CO</td>\n",
       "      <td>Bogotá</td>\n",
       "      <td>pm10</td>\n",
       "      <td>308</td>\n",
       "      <td>5.0</td>\n",
       "      <td>81.0</td>\n",
       "      <td>24.0</td>\n",
       "      <td>2760.72</td>\n",
       "    </tr>\n",
       "    <tr>\n",
       "      <th>261</th>\n",
       "      <td>2020-01-17</td>\n",
       "      <td>CO</td>\n",
       "      <td>Bogotá</td>\n",
       "      <td>pm10</td>\n",
       "      <td>328</td>\n",
       "      <td>2.0</td>\n",
       "      <td>90.0</td>\n",
       "      <td>10.0</td>\n",
       "      <td>1330.29</td>\n",
       "    </tr>\n",
       "    <tr>\n",
       "      <th>...</th>\n",
       "      <td>...</td>\n",
       "      <td>...</td>\n",
       "      <td>...</td>\n",
       "      <td>...</td>\n",
       "      <td>...</td>\n",
       "      <td>...</td>\n",
       "      <td>...</td>\n",
       "      <td>...</td>\n",
       "      <td>...</td>\n",
       "    </tr>\n",
       "    <tr>\n",
       "      <th>539412</th>\n",
       "      <td>2020-03-17</td>\n",
       "      <td>LT</td>\n",
       "      <td>Kaunas</td>\n",
       "      <td>pm25</td>\n",
       "      <td>46</td>\n",
       "      <td>1.0</td>\n",
       "      <td>78.0</td>\n",
       "      <td>38.0</td>\n",
       "      <td>2992.27</td>\n",
       "    </tr>\n",
       "    <tr>\n",
       "      <th>539413</th>\n",
       "      <td>2020-03-25</td>\n",
       "      <td>LT</td>\n",
       "      <td>Kaunas</td>\n",
       "      <td>pm25</td>\n",
       "      <td>46</td>\n",
       "      <td>17.0</td>\n",
       "      <td>165.0</td>\n",
       "      <td>78.0</td>\n",
       "      <td>16040.00</td>\n",
       "    </tr>\n",
       "    <tr>\n",
       "      <th>539414</th>\n",
       "      <td>2019-12-30</td>\n",
       "      <td>LT</td>\n",
       "      <td>Kaunas</td>\n",
       "      <td>pm25</td>\n",
       "      <td>21</td>\n",
       "      <td>17.0</td>\n",
       "      <td>72.0</td>\n",
       "      <td>42.0</td>\n",
       "      <td>1136.33</td>\n",
       "    </tr>\n",
       "    <tr>\n",
       "      <th>539415</th>\n",
       "      <td>2020-02-19</td>\n",
       "      <td>LT</td>\n",
       "      <td>Kaunas</td>\n",
       "      <td>pm25</td>\n",
       "      <td>43</td>\n",
       "      <td>5.0</td>\n",
       "      <td>63.0</td>\n",
       "      <td>46.0</td>\n",
       "      <td>1888.83</td>\n",
       "    </tr>\n",
       "    <tr>\n",
       "      <th>539416</th>\n",
       "      <td>2020-02-26</td>\n",
       "      <td>LT</td>\n",
       "      <td>Kaunas</td>\n",
       "      <td>pm25</td>\n",
       "      <td>44</td>\n",
       "      <td>1.0</td>\n",
       "      <td>66.0</td>\n",
       "      <td>38.0</td>\n",
       "      <td>1852.36</td>\n",
       "    </tr>\n",
       "  </tbody>\n",
       "</table>\n",
       "<p>145749 rows × 9 columns</p>\n",
       "</div>"
      ],
      "text/plain": [
       "              Date Country    City Specie  count   min    max  median  \\\n",
       "257     2020-02-23      CO  Bogotá   pm10    327   4.0   72.0    25.0   \n",
       "258     2020-03-24      CO  Bogotá   pm10    314   2.0   86.0    47.0   \n",
       "259     2020-04-01      CO  Bogotá   pm10    330   5.0   79.0    25.0   \n",
       "260     2019-12-30      CO  Bogotá   pm10    308   5.0   81.0    24.0   \n",
       "261     2020-01-17      CO  Bogotá   pm10    328   2.0   90.0    10.0   \n",
       "...            ...     ...     ...    ...    ...   ...    ...     ...   \n",
       "539412  2020-03-17      LT  Kaunas   pm25     46   1.0   78.0    38.0   \n",
       "539413  2020-03-25      LT  Kaunas   pm25     46  17.0  165.0    78.0   \n",
       "539414  2019-12-30      LT  Kaunas   pm25     21  17.0   72.0    42.0   \n",
       "539415  2020-02-19      LT  Kaunas   pm25     43   5.0   63.0    46.0   \n",
       "539416  2020-02-26      LT  Kaunas   pm25     44   1.0   66.0    38.0   \n",
       "\n",
       "        variance  \n",
       "257      1519.18  \n",
       "258      1525.59  \n",
       "259      1143.10  \n",
       "260      2760.72  \n",
       "261      1330.29  \n",
       "...          ...  \n",
       "539412   2992.27  \n",
       "539413  16040.00  \n",
       "539414   1136.33  \n",
       "539415   1888.83  \n",
       "539416   1852.36  \n",
       "\n",
       "[145749 rows x 9 columns]"
      ]
     },
     "execution_count": 28,
     "metadata": {},
     "output_type": "execute_result"
    }
   ],
   "source": [
    "data[data['Specie'].isin(['no2','pm25', 'pm10'])] \n",
    "# The data we want to save is the one which is NO2, PM25 or PM10 in the column Specie"
   ]
  },
  {
   "cell_type": "code",
   "execution_count": 13,
   "id": "b0b0e5c1",
   "metadata": {},
   "outputs": [],
   "source": [
    "filtered_data = data[data['Specie'].isin(['no2','pm25', 'pm10'])]"
   ]
  },
  {
   "cell_type": "code",
   "execution_count": 25,
   "id": "bf3b377b",
   "metadata": {},
   "outputs": [
    {
     "data": {
      "text/plain": [
       "(145749, 9)"
      ]
     },
     "execution_count": 25,
     "metadata": {},
     "output_type": "execute_result"
    }
   ],
   "source": [
    "filtered_data.shape # Checking that the number of rows is smaller -- done!"
   ]
  },
  {
   "cell_type": "markdown",
   "id": "ef7d8b2e",
   "metadata": {},
   "source": [
    "# Saving locally the clean dataset"
   ]
  },
  {
   "cell_type": "code",
   "execution_count": 27,
   "id": "ef33ea9d",
   "metadata": {},
   "outputs": [],
   "source": [
    "# Saving the dataset:\n",
    "\n",
    "filtered_data.to_csv('datasets/data2_filtered.csv')"
   ]
  },
  {
   "cell_type": "markdown",
   "id": "df73c82c",
   "metadata": {},
   "source": [
    "(*) The original file was downloaded from the webpage [_Air Quality Open Data Platform, Worldwide COVID-19 dataset_](https://aqicn.org/data-platform/covid19/) and it is the dataset for the first quarter of 2020."
   ]
  }
 ],
 "metadata": {
  "kernelspec": {
   "display_name": "Python 3",
   "language": "python",
   "name": "python3"
  },
  "language_info": {
   "codemirror_mode": {
    "name": "ipython",
    "version": 3
   },
   "file_extension": ".py",
   "mimetype": "text/x-python",
   "name": "python",
   "nbconvert_exporter": "python",
   "pygments_lexer": "ipython3",
   "version": "3.8.10"
  },
  "toc": {
   "base_numbering": 1,
   "nav_menu": {},
   "number_sections": true,
   "sideBar": false,
   "skip_h1_title": false,
   "title_cell": "Index",
   "title_sidebar": "Contents",
   "toc_cell": true,
   "toc_position": {},
   "toc_section_display": true,
   "toc_window_display": true
  }
 },
 "nbformat": 4,
 "nbformat_minor": 5
}
